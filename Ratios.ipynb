{
 "cells": [
  {
   "cell_type": "markdown",
   "metadata": {},
   "source": [
    "## An Experimental Discussion of Ratios\n",
    "\n",
    "### Introduction\n",
    "\n",
    "This is an introductory ananylsis into the ratios that finance professionals use (and don't use) in order to rank risk adjusted returns.\n",
    "\n",
    "The need for this study comes from the overwheling popularity of the Sharpe and Sortino Ratios. The Sharpe ratio in simplest terms is a ratio of average return to volatility. It's main competitor - the sortino ratio- is actually the same ratio for a normally distributed portfolio. Sortino Ratio only factors in volatility to the downside (normally std deviation/2). \n",
    "\n",
    "Volatility, in my opinion, is not the direct enemy (Losing capital is the enemy). Professionals use these ratio to determine \"Risk Adjusted Rates of Return\" and this study will test if that is actually what any of these ratios produce.\n",
    "\n",
    "The Methods taken are somewhat unorthodox for a financial review. Normally we would use historical data in order to prove concepts. However, for this initial probe historical data would be much more 'noisy' than our data here. This Project is meant to focus exclusively on popular risk ratios and their ability to rank risk vs reward.\n",
    "\n",
    "\n",
    "\n",
    "### Methods\n",
    "\n",
    "The Study will use many different ratios in order to pick portfolios. This will primarily use a MonteCarlo-like experiment in order to test the ratios themselves. \n",
    "\n",
    "We will randomly generate 3 portfolios with a normal distribution and a random mean and standard deviation. We will then use numerous ratios to pick different portfolios. The sharpe portfolio will choose by using the sharpe ratio and the sortino portfolio will choose using the sortino ratio.. ect. (Although practically the Storino ratio will pick the same portfolios as the Sharpe ratio due to the normally distributed portfolios). Each portfolio will have 20 stocks inside and we will use a random generator to generate the 20 individual returns and then aggregate them into a final return for that individual porfolio. This process will then be done 10,000 times. The size of the dataset will allow us to have a good understanding of which methods actually pick based on \"Risk Adjusted Rate of Return\". \n",
    "\n",
    "As a disclaimer-- there are many factors that go into picking a good portfolio and co-variance to the market and co-variance to each asset are both factors left out of this experiment. This study assumes that all assets in porfolios have the same Beta and that all portfolios are perfectly independent of eachother. We will also assume that the risk free rate of interest is zero and the risk free volatility is zero. In our current economic climate--this may be a reasonable assumption.\n",
    "\n",
    "During evaluation we will actually use the Sharpe Ratio as the primary criteria for determining stock performance. Secondarily we will look at Maximum Drawdown, Probability of Negative outcomes, and the Com ratio (Described Below).\n",
    "\n",
    "\n",
    "### Ratios\n",
    "\n",
    "- Sharpe Ratio- mean vs std deviation\n",
    "- Sortino Ratio-mean vs std deviation to the downside\n",
    "- Highest Mean -maximum mean\n",
    "- Lowest Std Deviation- minimum std deviation\n",
    "- Lowest Statistal minimum probability of negative return\n",
    "- Com ratio-Ratio of mean return to probability of negative return\n",
    "\n",
    "I will exclude the Treynor Ratio for this analysis because it primariliy is based on Beta which is a covariance to market returns. My goal for this study is to test portfolios that only vary in two ways-mean and std deviation. Perhaps there may be rationale for a second experiment involving covariance to market index."
   ]
  },
  {
   "cell_type": "code",
   "execution_count": 163,
   "metadata": {},
   "outputs": [],
   "source": [
    "import random\n",
    "import numpy as np\n",
    "import pandas as pd\n",
    "from scipy.stats import norm\n",
    "import matplotlib.pyplot as plt\n",
    "\n",
    "com=[]\n",
    "shp=[]\n",
    "sor=[]\n",
    "mean=[]\n",
    "std=[]\n",
    "prob=[]\n",
    "ratio_c=[]\n",
    "ratio_shp=[]\n",
    "\n",
    "for i in range(0,10000):\n",
    "    ## Three Stocks with ranges of 1-20% annual returns\n",
    "    ## and Std Deviations ranging from the generated mean return to 50 (minimum of 1)\n",
    "    mean1=random.randrange(1, 20,1)\n",
    "    stddev1=random.randrange(mean1,50,1)\n",
    "    mean2=random.randrange(1,20,1)\n",
    "    stddev2=random.randrange(mean2,50,1)\n",
    "    mean3=random.randrange(1,20,1)\n",
    "    stddev3=random.randrange(mean3,50,1)\n",
    "    \n",
    "    \n",
    "    ##Probabilities of returns below Zero from Gaussian Distribtuion\n",
    "    prob1=norm.cdf(0,mean1,stddev1)\n",
    "    prob2=norm.cdf(0,mean2,stddev2)\n",
    "    prob3=norm.cdf(0,mean3,stddev3)\n",
    "    \n",
    "    ##Ratio defined as the mean divided by the probability of losing money\n",
    "    com1=mean1/prob1\n",
    "    com2=mean2/prob2\n",
    "    com3=mean3/prob3\n",
    "\n",
    "    \n",
    "    ##Sharpe- Mean divided by std deviation\n",
    "    shp1=mean1/stddev1\n",
    "    shp2=mean2/stddev2\n",
    "    shp3=mean3/stddev3\n",
    "    \n",
    "    ## Sortino Ratio\n",
    "    sor1=mean1/(stddev1/2)\n",
    "    sor2=mean2/(stddev2/2)\n",
    "    sor3=mean3/(stddev3/2)\n",
    "    \n",
    "    \n",
    "    ## Com Selection\n",
    "    if max(com1,com2,com3)==com1:\n",
    "        com.append([mean1,stddev1])\n",
    "        ratio_c.append(com1)\n",
    "    elif max(com1,com2,com3)==com2:\n",
    "        com.append([mean2,stddev2])\n",
    "        ratio_c.append(com2)\n",
    "    elif max(com1,com2,com3)==com3:\n",
    "        com.append([mean3,stddev3])\n",
    "        ratio_c.append(com3)\n",
    "    else:\n",
    "        com.append(None)\n",
    "        \n",
    "        \n",
    "    #Sharpe Selection    \n",
    "    if max(shp1,shp2,shp3)==shp1:\n",
    "        shp.append([mean1,stddev1])\n",
    "        ratio_shp.append(shp1)\n",
    "    elif max(shp1,shp2,shp3)==shp2:\n",
    "        shp.append([mean2,stddev2])\n",
    "        ratio_shp.append(shp2)\n",
    "    elif max(shp1,shp2,shp3)==shp3:\n",
    "        shp.append([mean3,stddev3])\n",
    "        ratio_shp.append(shp3)\n",
    "    else:\n",
    "        shp.append(None)\n",
    "    \n",
    "    \n",
    "    ##Sortino Selection\n",
    "    if max(sor1,sor2,sor3)==sor1:\n",
    "        sor.append([mean1,stddev1])\n",
    "    elif max(sor1,sor2,sor3)==sor2:\n",
    "        sor.append([mean2,stddev2])\n",
    "    elif max(sor1,sor2,sor3)==sor3:\n",
    "        sor.append([mean3,stddev3])\n",
    "    else:\n",
    "        sor.append(None)\n",
    "    \n",
    "    ## Mean Selection\n",
    "    if max(mean1,mean2,mean3)==mean1:\n",
    "        mean.append([mean1,stddev1])\n",
    "    elif max(mean1,mean2,mean3)==mean2:\n",
    "        mean.append([mean2,stddev2])\n",
    "    elif max(mean1,mean2,mean3)==mean3:\n",
    "        mean.append([mean3,stddev3])\n",
    "    else:\n",
    "        mean.append(None)\n",
    "        \n",
    "    ## Lowest Std Selection\n",
    "    if min(stddev1,stddev2,stddev3)==stddev1:\n",
    "        std.append([mean1,stddev1])\n",
    "    elif min(stddev1,stddev2,stddev3)==stddev2:\n",
    "        std.append([mean2,stddev2])\n",
    "    elif min(stddev1,stddev2,stddev3)==stddev3:\n",
    "        std.append([mean3,stddev3])\n",
    "    else:\n",
    "        std.append(None)\n",
    "    \n",
    "    \n",
    "    ## Prob Selection\n",
    "    if min(prob1,prob2,prob3)==prob1:\n",
    "        prob.append([mean1,stddev1])\n",
    "    elif min(prob1,prob2,prob3)==prob2:\n",
    "        prob.append([mean2,stddev2])\n",
    "    elif min(prob1,prob2,prob3)==prob3:\n",
    "        prob.append([mean3,stddev3])\n",
    "    else:\n",
    "        prob.append(None)\n",
    "    \n",
    "    "
   ]
  },
  {
   "cell_type": "code",
   "execution_count": 164,
   "metadata": {},
   "outputs": [],
   "source": [
    "com_returns=[]\n",
    "shp_returns=[]\n",
    "prob_returns=[]\n",
    "std_returns=[]\n",
    "mean_returns=[]\n",
    "sor_returns=[]\n",
    "for each in com:\n",
    "    x=np.random.normal(each[0], each[1], 20)\n",
    "    com_returns.append(sum(x)/len(x))\n",
    "for each in shp:\n",
    "    y=np.random.normal(each[0], each[1], 20)\n",
    "    shp_returns.append(sum(y)/len(y))\n",
    "for each in sor:\n",
    "    y=np.random.normal(each[0], each[1], 20)\n",
    "    sor_returns.append(sum(y)/len(y))\n",
    "for each in prob:\n",
    "    y=np.random.normal(each[0], each[1], 20)\n",
    "    prob_returns.append(sum(y)/len(y))\n",
    "for each in mean:\n",
    "    y=np.random.normal(each[0], each[1], 20)\n",
    "    mean_returns.append(sum(y)/len(y))\n",
    "for each in std:\n",
    "    y=np.random.normal(each[0], each[1], 20)\n",
    "    std_returns.append(sum(y)/len(y))"
   ]
  },
  {
   "cell_type": "code",
   "execution_count": 165,
   "metadata": {},
   "outputs": [],
   "source": [
    "Frame=pd.DataFrame(\n",
    "    {\"Sharpe\":shp_returns,\n",
    "     \"Sortino\":sor_returns,\n",
    "     \"High Mean\":mean_returns,\n",
    "    \"Low Std\":std_returns,\n",
    "    \"Low Prob\":prob_returns,\n",
    "    \"Com\":com_returns}\n",
    ")"
   ]
  },
  {
   "cell_type": "code",
   "execution_count": 166,
   "metadata": {},
   "outputs": [
    {
     "data": {
      "text/html": [
       "<div>\n",
       "<style scoped>\n",
       "    .dataframe tbody tr th:only-of-type {\n",
       "        vertical-align: middle;\n",
       "    }\n",
       "\n",
       "    .dataframe tbody tr th {\n",
       "        vertical-align: top;\n",
       "    }\n",
       "\n",
       "    .dataframe thead th {\n",
       "        text-align: right;\n",
       "    }\n",
       "</style>\n",
       "<table border=\"1\" class=\"dataframe\">\n",
       "  <thead>\n",
       "    <tr style=\"text-align: right;\">\n",
       "      <th></th>\n",
       "      <th>Sharpe</th>\n",
       "      <th>Sortino</th>\n",
       "      <th>High Mean</th>\n",
       "      <th>Low Std</th>\n",
       "      <th>Low Prob</th>\n",
       "      <th>Com</th>\n",
       "    </tr>\n",
       "  </thead>\n",
       "  <tbody>\n",
       "    <tr>\n",
       "      <td>count</td>\n",
       "      <td>10000.000000</td>\n",
       "      <td>10000.000000</td>\n",
       "      <td>10000.000000</td>\n",
       "      <td>10000.000000</td>\n",
       "      <td>10000.000000</td>\n",
       "      <td>10000.000000</td>\n",
       "    </tr>\n",
       "    <tr>\n",
       "      <td>mean</td>\n",
       "      <td>12.798659</td>\n",
       "      <td>12.792840</td>\n",
       "      <td>14.606297</td>\n",
       "      <td>8.891076</td>\n",
       "      <td>12.952018</td>\n",
       "      <td>14.508106</td>\n",
       "    </tr>\n",
       "    <tr>\n",
       "      <td>std</td>\n",
       "      <td>7.470577</td>\n",
       "      <td>7.494005</td>\n",
       "      <td>8.355562</td>\n",
       "      <td>7.096768</td>\n",
       "      <td>7.438023</td>\n",
       "      <td>7.854893</td>\n",
       "    </tr>\n",
       "    <tr>\n",
       "      <td>min</td>\n",
       "      <td>-19.910050</td>\n",
       "      <td>-15.869523</td>\n",
       "      <td>-34.764159</td>\n",
       "      <td>-19.423939</td>\n",
       "      <td>-24.933204</td>\n",
       "      <td>-23.522255</td>\n",
       "    </tr>\n",
       "    <tr>\n",
       "      <td>25%</td>\n",
       "      <td>7.460633</td>\n",
       "      <td>7.431100</td>\n",
       "      <td>9.259958</td>\n",
       "      <td>3.718989</td>\n",
       "      <td>7.648285</td>\n",
       "      <td>9.472347</td>\n",
       "    </tr>\n",
       "    <tr>\n",
       "      <td>50%</td>\n",
       "      <td>12.302140</td>\n",
       "      <td>12.315013</td>\n",
       "      <td>14.623106</td>\n",
       "      <td>8.107386</td>\n",
       "      <td>12.567844</td>\n",
       "      <td>14.346743</td>\n",
       "    </tr>\n",
       "    <tr>\n",
       "      <td>75%</td>\n",
       "      <td>17.590569</td>\n",
       "      <td>17.484921</td>\n",
       "      <td>19.924105</td>\n",
       "      <td>13.511675</td>\n",
       "      <td>17.702023</td>\n",
       "      <td>19.297466</td>\n",
       "    </tr>\n",
       "    <tr>\n",
       "      <td>max</td>\n",
       "      <td>47.018080</td>\n",
       "      <td>49.903143</td>\n",
       "      <td>50.792930</td>\n",
       "      <td>41.148490</td>\n",
       "      <td>48.793635</td>\n",
       "      <td>52.204035</td>\n",
       "    </tr>\n",
       "  </tbody>\n",
       "</table>\n",
       "</div>"
      ],
      "text/plain": [
       "             Sharpe       Sortino     High Mean       Low Std      Low Prob  \\\n",
       "count  10000.000000  10000.000000  10000.000000  10000.000000  10000.000000   \n",
       "mean      12.798659     12.792840     14.606297      8.891076     12.952018   \n",
       "std        7.470577      7.494005      8.355562      7.096768      7.438023   \n",
       "min      -19.910050    -15.869523    -34.764159    -19.423939    -24.933204   \n",
       "25%        7.460633      7.431100      9.259958      3.718989      7.648285   \n",
       "50%       12.302140     12.315013     14.623106      8.107386     12.567844   \n",
       "75%       17.590569     17.484921     19.924105     13.511675     17.702023   \n",
       "max       47.018080     49.903143     50.792930     41.148490     48.793635   \n",
       "\n",
       "                Com  \n",
       "count  10000.000000  \n",
       "mean      14.508106  \n",
       "std        7.854893  \n",
       "min      -23.522255  \n",
       "25%        9.472347  \n",
       "50%       14.346743  \n",
       "75%       19.297466  \n",
       "max       52.204035  "
      ]
     },
     "execution_count": 166,
     "metadata": {},
     "output_type": "execute_result"
    }
   ],
   "source": [
    "Frame.describe()"
   ]
  },
  {
   "cell_type": "code",
   "execution_count": 167,
   "metadata": {},
   "outputs": [
    {
     "data": {
      "image/png": "[encoded data removed]",
      "text/plain": [
       "<Figure size 432x288 with 1 Axes>"
      ]
     },
     "metadata": {
      "needs_background": "light"
     },
     "output_type": "display_data"
    }
   ],
   "source": [
    "plt.boxplot([Frame[\"Sharpe\"],Frame[\"Sortino\"],Frame[\"High Mean\"],Frame[\"Low Std\"],Frame[\"Low Prob\"],Frame[\"Com\"]])\n",
    "\n",
    "plt.show()"
   ]
  },
  {
   "cell_type": "code",
   "execution_count": 178,
   "metadata": {},
   "outputs": [
    {
     "data": {
      "image/png": "[encoded data removed]",
      "text/plain": [
       "<Figure size 504x504 with 6 Axes>"
      ]
     },
     "metadata": {
      "needs_background": "light"
     },
     "output_type": "display_data"
    }
   ],
   "source": [
    "fig, ax=plt.subplots(3,2, figsize=(7,7),sharex=True,sharey=True)\n",
    "\n",
    "fig.tight_layout(pad=3)\n",
    "\n",
    "ax[0,0].hist(Frame[\"Sharpe\"],bins=50,label=\"Sharpe\")\n",
    "ax[0,0].axvline(x=0,color='r')\n",
    "ax[0,0].set_title(\"Sharpe\")\n",
    "ax[0,0].set_ylabel(\"Frequency\")\n",
    "\n",
    "ax[0,1].hist(Frame[\"Sortino\"],bins=50,label=\"Sortino\")\n",
    "ax[0,1].axvline(x=0,color='r')\n",
    "ax[0,1].set_title(\"Sortino\")\n",
    "\n",
    "ax[1,0].hist(Frame[\"High Mean\"],bins=50)\n",
    "ax[1,0].axvline(x=0,color='r')\n",
    "ax[1,0].set_title(\"High Mean\")\n",
    "ax[1,0].set_ylabel(\"Frequency\")\n",
    "\n",
    "ax[1,1].hist(Frame[\"Low Std\"],bins=50)\n",
    "ax[1,1].axvline(x=0,color='r')\n",
    "ax[1,1].set_title(\"Low Std\")\n",
    "\n",
    "ax[2,0].hist(Frame[\"Low Prob\"],bins=50)\n",
    "ax[2,0].axvline(x=0,color='r')\n",
    "ax[2,0].set_title(\"Low Prob\")\n",
    "ax[2,0].set_ylabel(\"Frequency\")\n",
    "\n",
    "ax[2,1].hist(Frame[\"Com\"],bins=50)\n",
    "ax[2,1].axvline(x=0,color='r')\n",
    "ax[2,1].set_title(\"Com\")\n",
    "\n",
    "plt.show()"
   ]
  },
  {
   "cell_type": "code",
   "execution_count": 169,
   "metadata": {},
   "outputs": [
    {
     "name": "stdout",
     "output_type": "stream",
     "text": [
      "Now, In order to put the test into a language most people already know.\n",
      " I Will use the Sharpe Ratios to determine the \"Best\" Portfoliio \n",
      "\n",
      "Sharpe Portfolio had a sharpe ratio of 1.7132 and a max drawdown of -20.0\n",
      "Sortino Portfolio had a sharpe ratio of 1.7071 and a max drawdown of -16.0\n",
      "High Mean portfolio had a sharpe ratio of 1.7481 and a max drawdown of -35.0\n",
      "Low Std Deviation portfolio had a sharpe ratio of 1.2528 and a max drawdown of -19.0\n",
      "Low Prob of Negativity portfolio had a sharpe ratio of 1.7413 and a max drawdown of -25.0\n",
      "Com Portfolio had a sharpe ratio of 1.847 and a max drawdown of -24.0\n"
     ]
    }
   ],
   "source": [
    "print(\"Now, In order to put the test into a language most people already know.\\n I Will use the Sharpe Ratios to determine the \\\"Best\\\" Portfoliio \\n\")\n",
    "\n",
    "one=Frame[\"Sharpe\"].mean()/Frame[\"Sharpe\"].std()\n",
    "drop=min(Frame[\"Sharpe\"].dropna())\n",
    "print(\"Sharpe Portfolio had a sharpe ratio of {} and a max drawdown of {}\".format(round(one,4),round(drop,0)))\n",
    "\n",
    "two=Frame[\"Sortino\"].mean()/Frame[\"Sortino\"].std()\n",
    "drop=min(Frame['Sortino'].dropna())\n",
    "print(\"Sortino Portfolio had a sharpe ratio of {} and a max drawdown of {}\".format(round(two,4),round(drop,0)))\n",
    "\n",
    "three=Frame[\"High Mean\"].mean()/Frame[\"High Mean\"].std()\n",
    "drop=min(Frame['High Mean'].dropna())\n",
    "print(\"High Mean portfolio had a sharpe ratio of {} and a max drawdown of {}\".format(round(three,4),round(drop,0)))\n",
    "\n",
    "four=Frame[\"Low Std\"].mean()/Frame[\"Low Std\"].std()\n",
    "drop=min(Frame['Low Std'].dropna())\n",
    "print(\"Low Std Deviation portfolio had a sharpe ratio of {} and a max drawdown of {}\".format(round(four,4),round(drop,0)))\n",
    "      \n",
    "five=Frame[\"Low Prob\"].mean()/Frame[\"Low Prob\"].std()\n",
    "drop=min(Frame['Low Prob'].dropna())\n",
    "print(\"Low Prob of Negativity portfolio had a sharpe ratio of {} and a max drawdown of {}\".format(round(five,4),round(drop,0)))    \n",
    "      \n",
    "six=Frame[\"Com\"].mean()/Frame[\"Com\"].std()\n",
    "drop=min(Frame['Com'].dropna())\n",
    "print(\"Com Portfolio had a sharpe ratio of {} and a max drawdown of {}\".format(round(six,4),round(drop,0)))"
   ]
  },
  {
   "cell_type": "code",
   "execution_count": 170,
   "metadata": {},
   "outputs": [
    {
     "name": "stdout",
     "output_type": "stream",
     "text": [
      "Evaluations Based on Other Criteria\n",
      " The Com ratio is defined as the return per unit of principal loss risk\n",
      "\n",
      "Sharpe Portfolio had a Com ratio of 295.3282 and a Negative Probability of 0.0433\n",
      "\n",
      "Sortino Portfolio had a Com ratio of 291.3826 and a Negative Probability of 0.0439\n",
      "\n",
      "High Mean Portfolio had a Com ratio of 363.1241 and a Negative Probability of 0.0402\n",
      "\n",
      "Low Standard Dev. Portfolio had a Com ratio of 84.5698 and a Negative Probability of 0.1051\n",
      "\n",
      "Low Prob. of Negativity Portfolio had a Com ratio of 317.348 and a Negative Probability of 0.0408\n",
      "\n",
      "Com Portfolio had a Com ratio of 448.1619 and a Negative Probability of 0.0324\n"
     ]
    }
   ],
   "source": [
    "print(\"Evaluations Based on Other Criteria\\n The Com ratio is defined as the return per unit of principal loss risk\\n\")\n",
    "\n",
    "one=Frame[\"Sharpe\"].mean()/norm.cdf(0,Frame[\"Sharpe\"].mean(),Frame[\"Sharpe\"].std())\n",
    "drop=norm.cdf(0,Frame[\"Sharpe\"].mean(),Frame[\"Sharpe\"].std())\n",
    "print(\"Sharpe Portfolio had a Com ratio of {} and a Negative Probability of {}\\n\".format(round(one,4),round(drop,4)))\n",
    "\n",
    "two=Frame[\"Sortino\"].mean()/norm.cdf(0,Frame[\"Sortino\"].mean(),Frame[\"Sortino\"].std())\n",
    "drop=norm.cdf(0,Frame[\"Sortino\"].mean(),Frame[\"Sortino\"].std())\n",
    "print(\"Sortino Portfolio had a Com ratio of {} and a Negative Probability of {}\\n\".format(round(two,4),round(drop,4)))\n",
    "\n",
    "three=Frame[\"High Mean\"].mean()/norm.cdf(0,Frame[\"High Mean\"].mean(),Frame[\"High Mean\"].std())\n",
    "drop=norm.cdf(0,Frame[\"High Mean\"].mean(),Frame[\"High Mean\"].std())\n",
    "print(\"High Mean Portfolio had a Com ratio of {} and a Negative Probability of {}\\n\".format(round(three,4),round(drop,4)))\n",
    "\n",
    "four=Frame[\"Low Std\"].mean()/norm.cdf(0,Frame[\"Low Std\"].mean(),Frame[\"Low Std\"].std())\n",
    "drop=norm.cdf(0,Frame[\"Low Std\"].mean(),Frame[\"Low Std\"].std())\n",
    "print(\"Low Standard Dev. Portfolio had a Com ratio of {} and a Negative Probability of {}\\n\".format(round(four,4),round(drop,4)))\n",
    "\n",
    "five=Frame[\"Low Prob\"].mean()/norm.cdf(0,Frame[\"Low Prob\"].mean(),Frame[\"Low Prob\"].std())\n",
    "drop=norm.cdf(0,Frame[\"Low Prob\"].mean(),Frame[\"Low Prob\"].std())\n",
    "print(\"Low Prob. of Negativity Portfolio had a Com ratio of {} and a Negative Probability of {}\\n\".format(round(five,4),round(drop,4)))\n",
    "\n",
    "six=Frame[\"Com\"].mean()/norm.cdf(0,Frame[\"Com\"].mean(),Frame[\"Com\"].std())\n",
    "drop=norm.cdf(0,Frame[\"Com\"].mean(),Frame[\"Com\"].std())\n",
    "print(\"Com Portfolio had a Com ratio of {} and a Negative Probability of {}\".format(round(six,4),round(drop,4)))\n"
   ]
  },
  {
   "cell_type": "markdown",
   "metadata": {},
   "source": [
    "### Conclusions\n",
    "\n",
    "In all measures the Sharpe and Sortino Portfolios were out performed by other portfolio picking strategies. Truly even the \"pick the highest mean\" strategy outperformed in this scenario. The fatal flaw lies in the desire for predictable results. These ratios handicap themselves against returns by seeking less volatile assets. Most Investors would agree that a return of 20% with a std deviation of 10% is better than a return of 10% with a standard deviation of 5%. Then why do we use a ratio that defines them to be the same?\n",
    "\n",
    "The Com ratio portfolio out performed every portfolio as measured by the Com Ratio and the Sharpe ratio as well as Negative Probability. This seems likely due to the non-linear nature of the ratio. It will systematically choose portfolios that are more likely to produce higher risk adjusted returns than any of the other strategies listed. \n",
    "\n",
    "The Sharpe and Sortino Ratios have been useful and practical tools in the past but they are inneficient at producing the type of results they are expected to. Simply put, through this experiment it has become clear that they do not reliably rank portfolios based on risk adjusted rate of return.\n",
    "\n",
    "\n",
    "#### Additional Thoughts and Biases\n",
    "Com ratio will fail if the probability of a negative return is rounded to 0. You will be dividing by zero. In these particular instances approximating the return to a low value such as .001% as a concrete minimum will allow you to rank accordingly. I do not know of any portfolio with a zero probability of negative returns. Even the risk free rate of interest likely has a non-zero probability. Low enough that we have never seen it but not unfathomable.\n",
    "\n",
    "As far as I can tell the experiment itself is free of any structural bias against the Sharpe/ Sortino Ratios. However, I do believe the experiment would be enhanced using real world historical data-although that comes with its own constraints and assumptions. The thought process for the experiment was to give each ratio an even playing field to make good decisions without any of the noise typically involved in real world data."
   ]
  },
  {
   "cell_type": "code",
   "execution_count": 171,
   "metadata": {},
   "outputs": [
    {
     "data": {
      "text/plain": [
       "<matplotlib.lines.Line2D at 0x1a1caac3d0>"
      ]
     },
     "execution_count": 171,
     "metadata": {},
     "output_type": "execute_result"
    },
    {
     "data": {
      "image/png": "[encoded data removed]",
      "text/plain": [
       "<Figure size 432x288 with 1 Axes>"
      ]
     },
     "metadata": {
      "needs_background": "light"
     },
     "output_type": "display_data"
    }
   ],
   "source": [
    "plt.scatter(ratio_c, Frame[\"Com\"])\n",
    "plt.axhline(y=Frame[\"Com\"].mean(),color='green')#average return\n",
    "plt.axhline(y=0,color='red')# Breakeven\n",
    "##plots of Com ratio vs return"
   ]
  },
  {
   "cell_type": "code",
   "execution_count": 172,
   "metadata": {},
   "outputs": [
    {
     "data": {
      "text/plain": [
       "<matplotlib.lines.Line2D at 0x1a1cd206d0>"
      ]
     },
     "execution_count": 172,
     "metadata": {},
     "output_type": "execute_result"
    },
    {
     "data": {
      "image/png": "[encoded data removed]",
      "text/plain": [
       "<Figure size 432x288 with 1 Axes>"
      ]
     },
     "metadata": {
      "needs_background": "light"
     },
     "output_type": "display_data"
    }
   ],
   "source": [
    "plt.scatter(ratio_shp, Frame[\"Sharpe\"])\n",
    "plt.axhline(y=Frame[\"Sharpe\"].mean(),color='green')# Average Return\n",
    "plt.axhline(y=0,color='red')# Breakeven\n",
    "#plot of sharpe ratio vs return "
   ]
  },
  {
   "cell_type": "code",
   "execution_count": null,
   "metadata": {},
   "outputs": [],
   "source": []
  },
  {
   "cell_type": "code",
   "execution_count": null,
   "metadata": {},
   "outputs": [],
   "source": []
  }
 ],
 "metadata": {
  "kernelspec": {
   "display_name": "Python 3",
   "language": "python",
   "name": "python3"
  },
  "language_info": {
   "codemirror_mode": {
    "name": "ipython",
    "version": 3
   },
   "file_extension": ".py",
   "mimetype": "text/x-python",
   "name": "python",
   "nbconvert_exporter": "python",
   "pygments_lexer": "ipython3",
   "version": "3.7.4"
  }
 },
 "nbformat": 4,
 "nbformat_minor": 2
}
